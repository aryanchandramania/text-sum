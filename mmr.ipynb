{
  "cells": [
    {
      "cell_type": "code",
      "execution_count": 79,
      "metadata": {},
      "outputs": [
        {
          "name": "stdout",
          "output_type": "stream",
          "text": [
            "[Errno 2] No such file or directory: 'wcep-mds-dataset/experiments'\n",
            "/home/aryan/Documents/2-1/CL 2/Project/Midsem_Team 1/wcep-mds-dataset/experiments\n"
          ]
        }
      ],
      "source": [
        "cd wcep-mds-dataset/experiments"
      ]
    },
    {
      "cell_type": "code",
      "execution_count": 80,
      "metadata": {},
      "outputs": [
        {
          "name": "stdout",
          "output_type": "stream",
          "text": [
            "dict_keys(['id', 'date', 'reference_urls', 'articles', 'summary', 'wiki_links', 'category'])\n"
          ]
        }
      ],
      "source": [
        "import utils\n",
        "from rouge_score import rouge_scorer\n",
        "\n",
        "val_data = list(utils.read_jsonl_gz('WCEP/val.jsonl.gz'))\n",
        "\n",
        "print(val_data[0].keys())"
      ]
    },
    {
      "cell_type": "code",
      "execution_count": 81,
      "metadata": {
        "colab": {
          "base_uri": "https://localhost:8080/"
        },
        "id": "MuAbXRS-ii-q",
        "outputId": "edb94909-f1cf-4636-d1f1-b400998cc9fc"
      },
      "outputs": [
        {
          "name": "stderr",
          "output_type": "stream",
          "text": [
            "[nltk_data] Downloading package punkt to /home/aryan/nltk_data...\n",
            "[nltk_data]   Package punkt is already up-to-date!\n"
          ]
        },
        {
          "data": {
            "text/plain": [
              "{'divide': 'ignore', 'over': 'warn', 'under': 'ignore', 'invalid': 'ignore'}"
            ]
          },
          "execution_count": 81,
          "metadata": {},
          "output_type": "execute_result"
        }
      ],
      "source": [
        "import pickle\n",
        "import numpy as np\n",
        "import pandas as pd\n",
        "import spacy\n",
        "import string\n",
        "import re\n",
        "import sys\n",
        "import nltk\n",
        "from nltk.corpus import stopwords\n",
        "import random\n",
        "nltk.download('punkt')\n",
        "\n",
        "nlp = spacy.load(\"en_core_web_sm\") #returns language object\n",
        "from spacy.lang.en.stop_words import STOP_WORDS as stop_words\n",
        "\n",
        "from sklearn.feature_extraction.text import CountVectorizer\n",
        "from sklearn.decomposition import NMF\n",
        "\n",
        "np.seterr(divide='ignore', invalid='ignore')"
      ]
    },
    {
      "cell_type": "code",
      "execution_count": 82,
      "metadata": {
        "id": "KhSTlVd2jn3V"
      },
      "outputs": [],
      "source": [
        "def preProcess(content, title):\n",
        "    \n",
        "#Sentence Segmentation & Case Folding\n",
        "    a = content\n",
        "    a = a.replace(', ',',')\n",
        "    a = a.replace(',',', ')\n",
        "    data = a\n",
        "    data= re.sub(r\"\\n\", \" \", data)\n",
        "    data= re.sub(\"\\\"\",\"\\\"\",data)\n",
        "    data = re.sub(\"''\",\"\\\"\",data)\n",
        "    data = re.sub(\"``\",\"\\\"\",data)\n",
        "    data = re.sub(\" +\",\" \",data)\n",
        "    data = data.replace('www.','')\n",
        "    data = data.replace('.com','com')\n",
        "    data = data.replace('.COM','COM')\n",
        "    data = data.replace('.','. ')\n",
        "    data = data.encode(\"ascii\", \"ignore\")\n",
        "    data = data.decode(\"ascii\")\n",
        "    \n",
        "#splitting data into list of sentences\n",
        "    import nltk.data\n",
        "    tokenizer = nltk.data.load('tokenizers/punkt/english.pickle')\n",
        "    lines = tokenizer.tokenize(data.strip())\n",
        "    \n",
        "#Case Folding\n",
        "    low = []\n",
        "    for x in lines:\n",
        "        a = re.sub(r'[^a-zA-Z0-9\\s]', ' ', x)\n",
        "        a = ''.join([i for i in a if not i.isdigit()])\n",
        "        a = a.lower()\n",
        "        low.append(a)\n",
        "\n",
        "#Preprocess for title\n",
        "    b = title\n",
        "    # b = b.encode(\"ascii\", \"ignore\")\n",
        "    # b = b.decode(\"ascii\")\n",
        "    b = b.replace('\\n','')\n",
        "    b = re.sub(r'[^a-zA-Z0-9\\s]', ' ', b)\n",
        "    b = str(filter(lambda c: not c.isdigit(), b))\n",
        "    b = b.lower()\n",
        "    \n",
        "    return lines, b"
      ]
    },
    {
      "cell_type": "code",
      "execution_count": 83,
      "metadata": {
        "id": "ANxmqLxSiqy4"
      },
      "outputs": [],
      "source": [
        "def cosineSim(a,b) :\n",
        "    dot_product = np.dot(a, b)\n",
        "    norm_a = np.linalg.norm(a)\n",
        "    norm_b = np.linalg.norm(b)\n",
        "    return dot_product / (norm_a * norm_b)"
      ]
    },
    {
      "cell_type": "code",
      "execution_count": 84,
      "metadata": {
        "id": "uEjt75FFi8aS"
      },
      "outputs": [],
      "source": [
        "def bestSentence(sentences, query):\n",
        "    best_sentence = None\n",
        "    maxVal = float(\"-inf\")\n",
        "    \n",
        "    for sent in sentences:\n",
        "        content = []\n",
        "        content.append(sent)\n",
        "        content.append(query)\n",
        "        \n",
        "        vectorizer = CountVectorizer()\n",
        "        tf = vectorizer.fit_transform(content)\n",
        "        tf = tf.toarray()\n",
        "        tf_sent = tf[0]\n",
        "        tf_query = tf[1]\n",
        "        \n",
        "        similarity = cosineSim(tf_sent, tf_query)\n",
        "        \n",
        "        if similarity > maxVal:\n",
        "            best_sentence = sent\n",
        "            maxVal = similarity\n",
        "    \n",
        "    sentences.remove(best_sentence)\n",
        "    return best_sentence"
      ]
    },
    {
      "cell_type": "code",
      "execution_count": 85,
      "metadata": {
        "id": "YqiQ3XNcoh0U"
      },
      "outputs": [],
      "source": [
        "def MMR(Si, query, Sj, lamda):\n",
        "    \n",
        "    content = []\n",
        "    content += Sj\n",
        "    content.append(query)\n",
        "        \n",
        "    vectorizer = CountVectorizer()\n",
        "    tf = vectorizer.fit_transform(content)\n",
        "    tf = tf.toarray()\n",
        "    tf_Si = tf[0]\n",
        "    tf_query = tf[-1]\n",
        "    \n",
        "    Sim1 = cosineSim(tf_Si, tf_query)\n",
        "    l_expr = lamda * Sim1\n",
        "    redundancy = []\n",
        "\n",
        "    for tf_sent in tf:        \n",
        "        Sim2 = cosineSim(tf_Si, tf_sent)\n",
        "        redundancy.append(Sim2)\n",
        "\n",
        "    try: r_expr = (1-lamda) * max(redundancy)\n",
        "    except: r_expr = 0\n",
        "    MMR_SCORE = l_expr - r_expr\n",
        "\n",
        "    return MMR_SCORE    "
      ]
    },
    {
      "cell_type": "code",
      "execution_count": 86,
      "metadata": {
        "id": "44LzaJx0uuPa"
      },
      "outputs": [],
      "source": [
        "def makeSummary(sentences, best_sentence, query, max_length, lamda):\n",
        "    summary = [best_sentence]\n",
        "    sum_len = len(summary)\n",
        "    \n",
        "    while sum_len < max_length :\n",
        "        MMRval = {}\n",
        "        \n",
        "        for sent in sentences:\n",
        "            MMRval[sent] = MMR(sent, query, summary, lamda)\n",
        "        \n",
        "        try: maxmmr = max(MMRval, key=MMRval.get)\n",
        "        except: return summary\n",
        "        summary.append(maxmmr)\n",
        "        sentences.remove(maxmmr)\n",
        "        sum_len = len(summary)\n",
        "    \n",
        "    return summary"
      ]
    },
    {
      "cell_type": "code",
      "execution_count": 87,
      "metadata": {},
      "outputs": [],
      "source": [
        "def processCluster(cluster):\n",
        "    no_of_articles = 1\n",
        "    articles = []\n",
        "    contents = []\n",
        "    title = cluster['articles'][0]['title']\n",
        "    # for i in range(no_of_articles):\n",
        "    #     articles.append(random.choice(cluster['articles'])['text'])\n",
        "    articles = list(map(lambda article: article['text'], random.sample(cluster['articles'], no_of_articles)))\n",
        "    \n",
        "    for article in articles:\n",
        "        content, title = preProcess(article, title)\n",
        "        contents.append(content)\n",
        "    # f = open(\"articles.txt\", \"a\")\n",
        "    # f.write(\"\\n\".join([\" \".join(content) for content in contents]))\n",
        "    # f.write('\\n')\n",
        "    # f.close()\n",
        "    content = []\n",
        "    for article in contents:\n",
        "        content += article\n",
        "    # content, title = preProcess(content, title)\n",
        "    best_sentence = bestSentence(content, title)\n",
        "    summary = makeSummary(content, best_sentence, title, 2, 0.5)\n",
        "\n",
        "    # f = open(\"summari.txt\", \"a\")\n",
        "    # f.write(title)\n",
        "    # f.write(\"\\nGenerated summary:\\n\")\n",
        "    # f.writelines(summary)\n",
        "    # f.write(\"\\n\\nGold summary:\\n\")\n",
        "    # f.write(cluster['summary'])\n",
        "    # f.close()\n",
        "    \n",
        "    return summary\n",
        "    "
      ]
    },
    {
      "cell_type": "code",
      "execution_count": 88,
      "metadata": {},
      "outputs": [],
      "source": [
        "def evaluate(summary, gold_summary):\n",
        "    scorer = rouge_scorer.RougeScorer(['rouge1'], use_stemmer=True)\n",
        "    scores = scorer.score(\" \".join(summary),gold_summary)\n",
        "    \n",
        "    with open(\"random-attempts.txt\", \"a\") as f:\n",
        "        f.write(f\"  {scores['rouge1']}\\n\")"
      ]
    },
    {
      "cell_type": "code",
      "execution_count": 89,
      "metadata": {
        "id": "J1GGnybst5gt"
      },
      "outputs": [],
      "source": [
        "def main():\n",
        "    dataset = list(utils.read_jsonl_gz('WCEP/val.jsonl.gz'))\n",
        "    for i in range(500):\n",
        "        cluster = dataset[i]\n",
        "        summary = processCluster(cluster)\n",
        "        with open(\"random-attempts.txt\", \"a\") as f:\n",
        "            f.write(f\"{i+1}) \",)\n",
        "        evaluate(summary, cluster['summary'])\n",
        "    \n",
        "if __name__ == '__main__':\n",
        "    main()"
      ]
    }
  ],
  "metadata": {
    "colab": {
      "collapsed_sections": [],
      "provenance": []
    },
    "kernelspec": {
      "display_name": "Python 3.8.10 64-bit",
      "language": "python",
      "name": "python3"
    },
    "language_info": {
      "codemirror_mode": {
        "name": "ipython",
        "version": 3
      },
      "file_extension": ".py",
      "mimetype": "text/x-python",
      "name": "python",
      "nbconvert_exporter": "python",
      "pygments_lexer": "ipython3",
      "version": "3.8.10"
    },
    "vscode": {
      "interpreter": {
        "hash": "916dbcbb3f70747c44a77c7bcd40155683ae19c65e1c03b4aa3499c5328201f1"
      }
    }
  },
  "nbformat": 4,
  "nbformat_minor": 0
}
